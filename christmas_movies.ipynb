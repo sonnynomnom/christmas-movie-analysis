{
 "cells": [
  {
   "cell_type": "markdown",
   "metadata": {},
   "source": [
    "# Christmas Movie Data Analysis! \n",
    "\n",
    "I examined the data with Python's Pandas, cleaned it then exported to CSV, which I used Microsoft Power BI for data visualization."
   ]
  },
  {
   "cell_type": "markdown",
   "metadata": {},
   "source": [
    "## Things to do:\n",
    "\n",
    "1. Data Cleaning - Remove null, duplicates, unnecessary characters (Save csv)\n",
    "2. Formulate dataframe - Movie vs TV-shows (Save csv)\n",
    "3. Univariate Analysis - distribution (Rating, Runtime, imdb-rating, meta-score, genre(get the count), release year, votes, gross (box office earnings))\n",
    "4. Bivariate Analysis \n",
    "    - IMDB rating vs Box office earning\n",
    "    - Rating vs Box office earning"
   ]
  },
  {
   "cell_type": "code",
   "execution_count": 1,
   "metadata": {},
   "outputs": [],
   "source": [
    "import numpy as np\n",
    "import pandas as pd"
   ]
  },
  {
   "cell_type": "code",
   "execution_count": 2,
   "metadata": {},
   "outputs": [
    {
     "data": {
      "text/html": [
       "<div>\n",
       "<style scoped>\n",
       "    .dataframe tbody tr th:only-of-type {\n",
       "        vertical-align: middle;\n",
       "    }\n",
       "\n",
       "    .dataframe tbody tr th {\n",
       "        vertical-align: top;\n",
       "    }\n",
       "\n",
       "    .dataframe thead th {\n",
       "        text-align: right;\n",
       "    }\n",
       "</style>\n",
       "<table border=\"1\" class=\"dataframe\">\n",
       "  <thead>\n",
       "    <tr style=\"text-align: right;\">\n",
       "      <th></th>\n",
       "      <th>title</th>\n",
       "      <th>rating</th>\n",
       "      <th>runtime</th>\n",
       "      <th>imdb_rating</th>\n",
       "      <th>meta_score</th>\n",
       "      <th>genre</th>\n",
       "      <th>release_year</th>\n",
       "      <th>description</th>\n",
       "      <th>director</th>\n",
       "      <th>stars</th>\n",
       "      <th>votes</th>\n",
       "      <th>gross</th>\n",
       "      <th>img_src</th>\n",
       "      <th>type</th>\n",
       "    </tr>\n",
       "  </thead>\n",
       "  <tbody>\n",
       "    <tr>\n",
       "      <th>0</th>\n",
       "      <td>Love Actually</td>\n",
       "      <td>R</td>\n",
       "      <td>135.0</td>\n",
       "      <td>7.6</td>\n",
       "      <td>55.0</td>\n",
       "      <td>Comedy, Drama, Romance</td>\n",
       "      <td>2003.0</td>\n",
       "      <td>Follows the lives of eight very different coup...</td>\n",
       "      <td>Richard Curtis</td>\n",
       "      <td>Hugh Grant, Martine McCutcheon, Liam Neeson, L...</td>\n",
       "      <td>491,920</td>\n",
       "      <td>$59.70M</td>\n",
       "      <td>https://m.media-amazon.com/images/M/MV5BMTY4Nj...</td>\n",
       "      <td>Movie</td>\n",
       "    </tr>\n",
       "    <tr>\n",
       "      <th>1</th>\n",
       "      <td>National Lampoon's Christmas Vacation</td>\n",
       "      <td>PG-13</td>\n",
       "      <td>97.0</td>\n",
       "      <td>7.5</td>\n",
       "      <td>49.0</td>\n",
       "      <td>Comedy</td>\n",
       "      <td>1989.0</td>\n",
       "      <td>The Griswold family's plans for a big family C...</td>\n",
       "      <td>Jeremiah S. Chechik</td>\n",
       "      <td>Chevy Chase, Beverly D'Angelo, Juliette Lewis,...</td>\n",
       "      <td>198,428</td>\n",
       "      <td>$71.32M</td>\n",
       "      <td>https://m.media-amazon.com/images/M/MV5BMGZkMW...</td>\n",
       "      <td>Movie</td>\n",
       "    </tr>\n",
       "    <tr>\n",
       "      <th>2</th>\n",
       "      <td>Spirited</td>\n",
       "      <td>PG-13</td>\n",
       "      <td>127.0</td>\n",
       "      <td>6.6</td>\n",
       "      <td>55.0</td>\n",
       "      <td>Comedy, Family, Musical</td>\n",
       "      <td>2022.0</td>\n",
       "      <td>A musical version of Charles Dickens's story o...</td>\n",
       "      <td>Sean Anders</td>\n",
       "      <td>Will Ferrell, Ryan Reynolds, Octavia Spencer, ...</td>\n",
       "      <td>34,304</td>\n",
       "      <td>NaN</td>\n",
       "      <td>https://m.media-amazon.com/images/M/MV5BY2RlZG...</td>\n",
       "      <td>Movie</td>\n",
       "    </tr>\n",
       "    <tr>\n",
       "      <th>3</th>\n",
       "      <td>Home Alone</td>\n",
       "      <td>PG</td>\n",
       "      <td>103.0</td>\n",
       "      <td>7.7</td>\n",
       "      <td>63.0</td>\n",
       "      <td>Comedy, Family</td>\n",
       "      <td>1990.0</td>\n",
       "      <td>An eight-year-old troublemaker, mistakenly lef...</td>\n",
       "      <td>Chris Columbus</td>\n",
       "      <td>Macaulay Culkin, Joe Pesci, Daniel Stern, John...</td>\n",
       "      <td>584,210</td>\n",
       "      <td>$285.76M</td>\n",
       "      <td>https://m.media-amazon.com/images/M/MV5BMzFkM2...</td>\n",
       "      <td>Movie</td>\n",
       "    </tr>\n",
       "    <tr>\n",
       "      <th>4</th>\n",
       "      <td>How the Grinch Stole Christmas</td>\n",
       "      <td>PG</td>\n",
       "      <td>104.0</td>\n",
       "      <td>6.3</td>\n",
       "      <td>46.0</td>\n",
       "      <td>Comedy, Family, Fantasy</td>\n",
       "      <td>2000.0</td>\n",
       "      <td>On the outskirts of Whoville lives a green, re...</td>\n",
       "      <td>Ron Howard</td>\n",
       "      <td>Jim Carrey, Taylor Momsen, Kelley, Jeffrey Tam...</td>\n",
       "      <td>259,796</td>\n",
       "      <td>$260.04M</td>\n",
       "      <td>https://m.media-amazon.com/images/M/MV5BNWNiNT...</td>\n",
       "      <td>Movie</td>\n",
       "    </tr>\n",
       "  </tbody>\n",
       "</table>\n",
       "</div>"
      ],
      "text/plain": [
       "                                   title rating  runtime  imdb_rating  \\\n",
       "0                          Love Actually      R    135.0          7.6   \n",
       "1  National Lampoon's Christmas Vacation  PG-13     97.0          7.5   \n",
       "2                               Spirited  PG-13    127.0          6.6   \n",
       "3                             Home Alone     PG    103.0          7.7   \n",
       "4         How the Grinch Stole Christmas     PG    104.0          6.3   \n",
       "\n",
       "   meta_score                    genre  release_year  \\\n",
       "0        55.0   Comedy, Drama, Romance        2003.0   \n",
       "1        49.0                   Comedy        1989.0   \n",
       "2        55.0  Comedy, Family, Musical        2022.0   \n",
       "3        63.0           Comedy, Family        1990.0   \n",
       "4        46.0  Comedy, Family, Fantasy        2000.0   \n",
       "\n",
       "                                         description             director  \\\n",
       "0  Follows the lives of eight very different coup...       Richard Curtis   \n",
       "1  The Griswold family's plans for a big family C...  Jeremiah S. Chechik   \n",
       "2  A musical version of Charles Dickens's story o...          Sean Anders   \n",
       "3  An eight-year-old troublemaker, mistakenly lef...       Chris Columbus   \n",
       "4  On the outskirts of Whoville lives a green, re...           Ron Howard   \n",
       "\n",
       "                                               stars    votes     gross  \\\n",
       "0  Hugh Grant, Martine McCutcheon, Liam Neeson, L...  491,920   $59.70M   \n",
       "1  Chevy Chase, Beverly D'Angelo, Juliette Lewis,...  198,428   $71.32M   \n",
       "2  Will Ferrell, Ryan Reynolds, Octavia Spencer, ...   34,304       NaN   \n",
       "3  Macaulay Culkin, Joe Pesci, Daniel Stern, John...  584,210  $285.76M   \n",
       "4  Jim Carrey, Taylor Momsen, Kelley, Jeffrey Tam...  259,796  $260.04M   \n",
       "\n",
       "                                             img_src   type  \n",
       "0  https://m.media-amazon.com/images/M/MV5BMTY4Nj...  Movie  \n",
       "1  https://m.media-amazon.com/images/M/MV5BMGZkMW...  Movie  \n",
       "2  https://m.media-amazon.com/images/M/MV5BY2RlZG...  Movie  \n",
       "3  https://m.media-amazon.com/images/M/MV5BMzFkM2...  Movie  \n",
       "4  https://m.media-amazon.com/images/M/MV5BNWNiNT...  Movie  "
      ]
     },
     "execution_count": 2,
     "metadata": {},
     "output_type": "execute_result"
    }
   ],
   "source": [
    "# Reading the data\n",
    "\n",
    "df = pd.read_csv('/csv-files/christmas_movies.csv')\n",
    "df.head(5)"
   ]
  },
  {
   "cell_type": "code",
   "execution_count": 3,
   "metadata": {},
   "outputs": [
    {
     "name": "stdout",
     "output_type": "stream",
     "text": [
      "<class 'pandas.core.frame.DataFrame'>\n",
      "RangeIndex: 788 entries, 0 to 787\n",
      "Data columns (total 14 columns):\n",
      " #   Column        Non-Null Count  Dtype  \n",
      "---  ------        --------------  -----  \n",
      " 0   title         788 non-null    object \n",
      " 1   rating        646 non-null    object \n",
      " 2   runtime       749 non-null    float64\n",
      " 3   imdb_rating   749 non-null    float64\n",
      " 4   meta_score    96 non-null     float64\n",
      " 5   genre         787 non-null    object \n",
      " 6   release_year  780 non-null    float64\n",
      " 7   description   788 non-null    object \n",
      " 8   director      783 non-null    object \n",
      " 9   stars         776 non-null    object \n",
      " 10  votes         749 non-null    object \n",
      " 11  gross         80 non-null     object \n",
      " 12  img_src       788 non-null    object \n",
      " 13  type          788 non-null    object \n",
      "dtypes: float64(4), object(10)\n",
      "memory usage: 86.3+ KB\n"
     ]
    }
   ],
   "source": [
    "df.info()"
   ]
  },
  {
   "cell_type": "code",
   "execution_count": 4,
   "metadata": {},
   "outputs": [
    {
     "data": {
      "text/plain": [
       "title             0\n",
       "rating          142\n",
       "runtime          39\n",
       "imdb_rating      39\n",
       "meta_score      692\n",
       "genre             1\n",
       "release_year      8\n",
       "description       0\n",
       "director          5\n",
       "stars            12\n",
       "votes            39\n",
       "gross           708\n",
       "img_src           0\n",
       "type              0\n",
       "dtype: int64"
      ]
     },
     "execution_count": 4,
     "metadata": {},
     "output_type": "execute_result"
    }
   ],
   "source": [
    "# Checking the number of missing data:\n",
    "df.isna().sum()"
   ]
  },
  {
   "cell_type": "markdown",
   "metadata": {},
   "source": [
    "We have quite a few null/missing values... let's clean this below!:"
   ]
  },
  {
   "cell_type": "markdown",
   "metadata": {},
   "source": [
    "## Data Cleaning:"
   ]
  },
  {
   "cell_type": "code",
   "execution_count": 5,
   "metadata": {},
   "outputs": [
    {
     "data": {
      "text/html": [
       "<div>\n",
       "<style scoped>\n",
       "    .dataframe tbody tr th:only-of-type {\n",
       "        vertical-align: middle;\n",
       "    }\n",
       "\n",
       "    .dataframe tbody tr th {\n",
       "        vertical-align: top;\n",
       "    }\n",
       "\n",
       "    .dataframe thead th {\n",
       "        text-align: right;\n",
       "    }\n",
       "</style>\n",
       "<table border=\"1\" class=\"dataframe\">\n",
       "  <thead>\n",
       "    <tr style=\"text-align: right;\">\n",
       "      <th></th>\n",
       "      <th>title</th>\n",
       "      <th>rating</th>\n",
       "      <th>runtime</th>\n",
       "      <th>imdb_rating</th>\n",
       "      <th>meta_score</th>\n",
       "      <th>genre</th>\n",
       "      <th>release_year</th>\n",
       "      <th>description</th>\n",
       "      <th>director</th>\n",
       "      <th>stars</th>\n",
       "      <th>votes</th>\n",
       "      <th>gross</th>\n",
       "      <th>img_src</th>\n",
       "      <th>type</th>\n",
       "    </tr>\n",
       "  </thead>\n",
       "  <tbody>\n",
       "    <tr>\n",
       "      <th>0</th>\n",
       "      <td>Love Actually</td>\n",
       "      <td>R</td>\n",
       "      <td>135.0</td>\n",
       "      <td>7.6</td>\n",
       "      <td>55.0</td>\n",
       "      <td>Comedy, Drama, Romance</td>\n",
       "      <td>2003.0</td>\n",
       "      <td>Follows the lives of eight very different coup...</td>\n",
       "      <td>Richard Curtis</td>\n",
       "      <td>Hugh Grant, Martine McCutcheon, Liam Neeson, L...</td>\n",
       "      <td>491,920</td>\n",
       "      <td>$59.70M</td>\n",
       "      <td>https://m.media-amazon.com/images/M/MV5BMTY4Nj...</td>\n",
       "      <td>Movie</td>\n",
       "    </tr>\n",
       "  </tbody>\n",
       "</table>\n",
       "</div>"
      ],
      "text/plain": [
       "           title rating  runtime  imdb_rating  meta_score  \\\n",
       "0  Love Actually      R    135.0          7.6        55.0   \n",
       "\n",
       "                    genre  release_year  \\\n",
       "0  Comedy, Drama, Romance        2003.0   \n",
       "\n",
       "                                         description        director  \\\n",
       "0  Follows the lives of eight very different coup...  Richard Curtis   \n",
       "\n",
       "                                               stars    votes    gross  \\\n",
       "0  Hugh Grant, Martine McCutcheon, Liam Neeson, L...  491,920  $59.70M   \n",
       "\n",
       "                                             img_src   type  \n",
       "0  https://m.media-amazon.com/images/M/MV5BMTY4Nj...  Movie  "
      ]
     },
     "execution_count": 5,
     "metadata": {},
     "output_type": "execute_result"
    }
   ],
   "source": [
    "df.head(1)"
   ]
  },
  {
   "cell_type": "markdown",
   "metadata": {},
   "source": [
    "#### Renaming columns for clarity"
   ]
  },
  {
   "cell_type": "code",
   "execution_count": 6,
   "metadata": {},
   "outputs": [],
   "source": [
    "df.rename(columns={'gross':'box_office_amount'}, inplace=True)"
   ]
  },
  {
   "cell_type": "markdown",
   "metadata": {},
   "source": [
    "#### SEPARATING MOVIE AND TV EPISODE"
   ]
  },
  {
   "cell_type": "code",
   "execution_count": 7,
   "metadata": {},
   "outputs": [
    {
     "data": {
      "text/plain": [
       "array(['Movie', 'TV Episode'], dtype=object)"
      ]
     },
     "execution_count": 7,
     "metadata": {},
     "output_type": "execute_result"
    }
   ],
   "source": [
    "# Looking at the types of the media:\n",
    "df['type'].unique()"
   ]
  },
  {
   "cell_type": "code",
   "execution_count": 8,
   "metadata": {},
   "outputs": [],
   "source": [
    "df_movie = df[df['type'] == 'Movie']\n",
    "\n",
    "df_tv = df[df['type'] == 'TV Episode']"
   ]
  },
  {
   "cell_type": "markdown",
   "metadata": {},
   "source": [
    "#### Dropping unnecessary columns:"
   ]
  },
  {
   "cell_type": "code",
   "execution_count": 9,
   "metadata": {},
   "outputs": [],
   "source": [
    "df_movie = df_movie.drop(['description', 'director', 'stars'], axis = 1)"
   ]
  },
  {
   "cell_type": "markdown",
   "metadata": {},
   "source": [
    "#### Removing dollar sign from gross column:"
   ]
  },
  {
   "cell_type": "code",
   "execution_count": 10,
   "metadata": {},
   "outputs": [],
   "source": [
    "df_movie['box_office_amount'] = df_movie['box_office_amount'].str.replace('$', '')\n",
    "df_movie['box_office_amount'] = df_movie['box_office_amount'].str.replace('M', '')"
   ]
  },
  {
   "cell_type": "markdown",
   "metadata": {},
   "source": [
    "#### Write to the new csv file:"
   ]
  },
  {
   "cell_type": "code",
   "execution_count": 11,
   "metadata": {},
   "outputs": [],
   "source": [
    "df_movie.to_csv('new_christmas_movie.csv', index=True)"
   ]
  },
  {
   "cell_type": "markdown",
   "metadata": {},
   "source": [
    "#### Getting Count of Movie Genres:"
   ]
  },
  {
   "cell_type": "code",
   "execution_count": 13,
   "metadata": {},
   "outputs": [],
   "source": [
    "## Achieved: Using dictionaries to get count of media per movie\n",
    "\n",
    "genre_dict = {}\n",
    "\n",
    "genre_from_df = list(df['genre'])\n",
    "genre = []\n",
    "\n",
    "## Spliting each unique genre string for each row.\n",
    "for g in genre_from_df:\n",
    "    # Check for NaN values\n",
    "    if not pd.isna(g):\n",
    "        g = list(g.split(','))\n",
    "        for i in g:\n",
    "            genre.append(i.strip())\n",
    "\n",
    "\n",
    "## Using dictionaries to add counts to respective genre\n",
    "for i in genre:\n",
    "    if i in genre_dict:\n",
    "        genre_dict[i] += 1\n",
    "    else:\n",
    "        genre_dict[i] = 1"
   ]
  },
  {
   "cell_type": "code",
   "execution_count": 17,
   "metadata": {},
   "outputs": [],
   "source": [
    "df_genre = pd.DataFrame.from_dict(genre_dict, orient='index', columns=['count'])"
   ]
  },
  {
   "cell_type": "markdown",
   "metadata": {},
   "source": [
    "#### Writing to file: "
   ]
  },
  {
   "cell_type": "code",
   "execution_count": 18,
   "metadata": {},
   "outputs": [],
   "source": [
    "#### Write to the new csv file:\n",
    "df_genre.to_csv('genre_count.csv', index=True)"
   ]
  },
  {
   "cell_type": "markdown",
   "metadata": {},
   "source": [
    "Now we have exported two files:\n",
    "- new_christmas_movie.csv\n",
    "- genre_count.csv\n",
    "\n",
    "We will work with this in our Power BI for data visualization!"
   ]
  }
 ],
 "metadata": {
  "kernelspec": {
   "display_name": "Python 3",
   "language": "python",
   "name": "python3"
  },
  "language_info": {
   "codemirror_mode": {
    "name": "ipython",
    "version": 3
   },
   "file_extension": ".py",
   "mimetype": "text/x-python",
   "name": "python",
   "nbconvert_exporter": "python",
   "pygments_lexer": "ipython3",
   "version": "3.12.0"
  }
 },
 "nbformat": 4,
 "nbformat_minor": 2
}
